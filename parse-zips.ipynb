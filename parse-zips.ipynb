{
 "cells": [
  {
   "cell_type": "code",
   "execution_count": null,
   "id": "7ff84f96",
   "metadata": {},
   "outputs": [],
   "source": [
    "import csv\n",
    "import json\n",
    "\n",
    "import os"
   ]
  },
  {
   "cell_type": "raw",
   "id": "b02c0e08",
   "metadata": {},
   "source": [
    "This uses U.S. Census/MABLE/Geocorr data and HUD data to convert from 5- and 9-digit ZIP codes to counties."
   ]
  },
  {
   "cell_type": "raw",
   "id": "e882130f",
   "metadata": {},
   "source": [
    "To update U.S. Census/MABLE/Geocorr data: \n",
    "\n",
    "Data saved in geo folder as mable-raw.csv.\n",
    "\n",
    "How to get MABLE data:\n",
    "\n",
    "Hit:\n",
    "https://mcdc.missouri.edu/applications/geocorr2022.html -- unless there's a newer version of MABLE.\n",
    "\n",
    "Click on the first state. Hold down shift. Scroll down the list all the way. Click on the last state. Every state should be highlighted.\n",
    "\n",
    "Source geography: ZIP/ZCTA\n",
    "Target geography: County\n",
    "\n",
    "Default: Weighting by population\n",
    "\n",
    "Default: Generate a data file, CSV\n",
    "\n",
    "Click Run request\n",
    "\n",
    "Save the CSV. DO NOT OPEN IT IN EXCEL AND THEN SAVE, or you'll screw up New England ZIP codes.\n",
    "\n",
    "Replace mable-raw.csv in the geo folder of the project."
   ]
  },
  {
   "cell_type": "raw",
   "id": "821a0b78",
   "metadata": {},
   "source": [
    "This also uses another Census data source to pull in county-like names not used elsewhere, mostly for U.S. territories.\n",
    "\n",
    "Simon Willison processed:\n",
    "https://www.census.gov/geographies/mapping-files/time-series/geo/carto-boundary-file.html\n",
    "or\n",
    "https://www.census.gov/geographies/mapping-files/time-series/geo/cartographic-boundary.html\n",
    "    \n",
    "to create \n",
    "https://us-counties.datasette.io/counties/counties\n",
    "\n",
    "\n",
    "I'm grabbing the territories with this dumb hack:\n",
    "https://us-counties.datasette.io/counties/counties.json?_sort=id&_facet=STATEFP&STATEFP__gt=56\n",
    "    \n",
    "and saving as territories.json."
   ]
  },
  {
   "cell_type": "raw",
   "id": "fbaa83f2",
   "metadata": {},
   "source": [
    "To update the HUD crosswalk data:\n",
    "Go into the geo folder.\n",
    "\n",
    "Open the get-hud-data.ipynb notebook\n",
    "\n",
    "If you don't already have an API key, use the link from the notebook to register to get an API key.\n",
    "\n",
    "-- Save that API key in geo/hud-api-key.txt\n",
    "\n",
    "Now, run the notebook.\n",
    "\n",
    "With everything updated, return to this notebook."
   ]
  },
  {
   "cell_type": "code",
   "execution_count": null,
   "id": "c7c08c12",
   "metadata": {},
   "outputs": [],
   "source": [
    "with open(\"geo/mable-raw.csv\", \"r\", encoding=\"ansi\") as infile:\n",
    "    mableraw = list(csv.DictReader(infile))"
   ]
  },
  {
   "cell_type": "code",
   "execution_count": null,
   "id": "081bddea",
   "metadata": {},
   "outputs": [],
   "source": [
    "# MABLE data is *not* sorted properly, so we need to fix that.\n",
    "\n",
    "mablegood = list(reversed(sorted(mableraw, key=lambda entry: (entry['afact'], entry['zcta']))))"
   ]
  },
  {
   "cell_type": "code",
   "execution_count": null,
   "id": "0621648f",
   "metadata": {},
   "outputs": [],
   "source": [
    "masterdict = {}\n",
    "fipslookup = {}           # FIPS lookup table, to keep county names standardized in future processing\n",
    "for row in mablegood:\n",
    "    zcta = row['zcta']\n",
    "    fipslookup[row['county']] = row['CountyName']\n",
    "    if zcta not in [\"\", \"ZIP census tabulation area\", \" \"]:     # Drop bad row\n",
    "        if zcta not in masterdict:     # Sorted list. Take the biggest entry first/highest population\n",
    "            masterdict[zcta] = {\n",
    "                # was auditee_zip, auditee_fips, auditee_county_name, auditee_zip_name\n",
    "                \"zip_code\": zcta,\n",
    "                \"zip_fips\": row['county'],\n",
    "                \"zip_county_name\": row['CountyName'],\n",
    "                \"zip_place_name\": row['ZIPName'],\n",
    "            }\n",
    "            "
   ]
  },
  {
   "cell_type": "code",
   "execution_count": null,
   "id": "b4d32bb8",
   "metadata": {},
   "outputs": [],
   "source": [
    "with open(\"geo/hud-data.json\", \"r\", encoding=\"utf-8\") as infile:\n",
    "    hudraw = json.load(infile)['data']['results']"
   ]
  },
  {
   "cell_type": "code",
   "execution_count": null,
   "id": "2c8204f8",
   "metadata": {},
   "outputs": [],
   "source": [
    "# HUD data is *not* sorted properly, so we need to fix that.\n",
    "\n",
    "hudgood = list(reversed(sorted(hudraw, key=lambda entry: (entry['res_ratio'], entry['tot_ratio'], entry['zip']))))"
   ]
  },
  {
   "cell_type": "code",
   "execution_count": null,
   "id": "741f9a81",
   "metadata": {},
   "outputs": [],
   "source": [
    "# HUD data is NOT sorted safely to know which county is predominate, as far as I can tell\n",
    "# So let's try to sort through that\n",
    "\n",
    "tally = {\n",
    "    \"total\": 0,\n",
    "    \"duplicative\": 0,\n",
    "    \"first_time\": 0,\n",
    "    \"more_res\": 0,\n",
    "    \"more_tot\": 0,\n",
    "    \"inferior\": 0,\n",
    "}\n",
    "hudlookup = {}\n",
    "for entry in hudgood:\n",
    "    tally['total'] += 1\n",
    "    entryzip = entry['zip']\n",
    "    if entryzip in masterdict:      # If we already have a Census Bureau entry, that wins and we do nothing else here\n",
    "        tally['duplicative'] += 1\n",
    "    else:\n",
    "        if entryzip not in hudlookup:\n",
    "            hudlookup[entryzip] = entry\n",
    "            tally['first_time'] += 1\n",
    "        else:             # We need this ZIP code but there's multiple counties\n",
    "            remoteentry = hudlookup[entryzip]\n",
    "            if entry['res_ratio'] > remoteentry['res_ratio']:        # More humans wins, every time\n",
    "                hudlookup[entryzip] = entry\n",
    "                tally['more_res'] += 1\n",
    "                print(entryzip)\n",
    "            elif (remoteentry['res_ratio'] == entry['res_ratio']) and entry['tot_ratio'] > remoteentry['tot_ratio']:\n",
    "                hudlookup[entryzip] = entry\n",
    "                tally['more_tot'] += 1\n",
    "            else:\n",
    "                tally['inferior'] += 1\n",
    "print(f\"{tally['total']:,} total entries found; {tally['duplicative']:,} duplicative; {tally['first_time']:,} first seen\")\n",
    "print(f\"{tally['more_res']:,} had more residents than earlier entries; {tally['more_tot']:,} had more total addresses\")\n",
    "print(f\"{tally['inferior']:,} were worse.\")"
   ]
  },
  {
   "cell_type": "code",
   "execution_count": null,
   "id": "ff900b28",
   "metadata": {},
   "outputs": [],
   "source": [
    "tally = {\"found\": 0, \"missing\": 0}\n",
    "missingset = set()\n",
    "for entryzip in hudlookup:\n",
    "    entryfips = hudlookup[entryzip]['geoid']\n",
    "    if entryfips in fipslookup:\n",
    "        tally['found'] += 1\n",
    "        hudlookup[entryzip]['zip_county_name'] = fipslookup[entryfips]\n",
    "    else:\n",
    "        tally['missing'] += 1\n",
    "        missingset.add(entryfips)\n",
    "        hudlookup[entryzip]['zip_county_name'] = \"Unknown\"\n",
    "print(f\"FIPS names found for {tally['found']:,} and missing for {tally['missing']:,} entries.\")\n",
    "print(\"FIPS codes missing for \" + ' '.join(list(missingset)))"
   ]
  },
  {
   "cell_type": "code",
   "execution_count": null,
   "id": "d59a4abc",
   "metadata": {},
   "outputs": [],
   "source": [
    "# Census/geocorr/MABLE export does not include some entries for territories. Simon Willison's data does not include the\n",
    "# abbreviation for the state. We could build another table, or we can do this stupidly.\n",
    "\n",
    "fipspatches = {}\n",
    "with open(\"geo/territories.json\", \"r\", encoding=\"utf-8\") as infile:\n",
    "    territoriesraw = json.load(infile)\n",
    "for entry in territoriesraw['rows']:\n",
    "    fips = entry[1] + entry[2]\n",
    "    placename = entry[6]\n",
    "    if fips not in fipslookup:\n",
    "        fipspatches[fips] = placename"
   ]
  },
  {
   "cell_type": "code",
   "execution_count": null,
   "id": "1c5ce795",
   "metadata": {},
   "outputs": [],
   "source": [
    "tally = {\"patched\": 0, \"missing\": 0}\n",
    "for entryzip in hudlookup:\n",
    "    if hudlookup[entryzip]['zip_county_name'] == \"Unknown\":\n",
    "        if hudlookup[entryzip]['geoid'] not in fipspatches:\n",
    "            print(f\"Still missing entry for {hudlookup[entryzip]['geoid']}\")\n",
    "            tally['missing'] += 1\n",
    "        else:\n",
    "            hudlookup[entryzip]['zip_county_name'] = fipspatches[hudlookup[entryzip]['geoid']] + \" \" + hudlookup[entryzip]['state']\n",
    "            tally['patched'] += 1\n",
    "print(f\"{tally['patched']:,} entries patched and {tally['missing']:,} entries remain missing.\")"
   ]
  },
  {
   "cell_type": "code",
   "execution_count": null,
   "id": "0c50d749",
   "metadata": {},
   "outputs": [],
   "source": [
    "hudlookup[entryzip]"
   ]
  },
  {
   "cell_type": "code",
   "execution_count": null,
   "id": "ec7e9f13",
   "metadata": {},
   "outputs": [],
   "source": [
    "for entryzip in hudlookup:\n",
    "    if entryzip in masterdict:\n",
    "        print(f\"How ... ? {entryzip}\")\n",
    "    else:\n",
    "        entry = hudlookup[entryzip]\n",
    "        line = {}\n",
    "        line['zip_code'] = entryzip\n",
    "        line['zip_fips'] = entry['geoid']\n",
    "        line['zip_county_name'] = entry['zip_county_name']\n",
    "        line['zip_place_name'] = entry['city']\n",
    "        masterdict[entryzip] = line"
   ]
  },
  {
   "cell_type": "code",
   "execution_count": null,
   "id": "af78a182",
   "metadata": {},
   "outputs": [],
   "source": [
    "with open(\"geo/zip-lookup.csv\", \"w\", encoding=\"utf-8\", newline=\"\") as outfile:\n",
    "    writer = csv.writer(outfile)\n",
    "    writer.writerow(list(masterdict['33467'].keys()))\n",
    "    for zcta in sorted(masterdict):\n",
    "        writer.writerow(list(masterdict[zcta].values()))"
   ]
  },
  {
   "cell_type": "code",
   "execution_count": null,
   "id": "5f143765",
   "metadata": {},
   "outputs": [],
   "source": []
  }
 ],
 "metadata": {
  "kernelspec": {
   "display_name": "Python 3 (ipykernel)",
   "language": "python",
   "name": "python3"
  },
  "language_info": {
   "codemirror_mode": {
    "name": "ipython",
    "version": 3
   },
   "file_extension": ".py",
   "mimetype": "text/x-python",
   "name": "python",
   "nbconvert_exporter": "python",
   "pygments_lexer": "ipython3",
   "version": "3.10.6"
  }
 },
 "nbformat": 4,
 "nbformat_minor": 5
}
