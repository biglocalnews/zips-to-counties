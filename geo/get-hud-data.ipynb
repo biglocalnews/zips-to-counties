{
 "cells": [
  {
   "cell_type": "code",
   "execution_count": null,
   "id": "e18321b4",
   "metadata": {},
   "outputs": [],
   "source": [
    "import requests\n",
    "\n",
    "import json"
   ]
  },
  {
   "cell_type": "code",
   "execution_count": null,
   "id": "c490e97d",
   "metadata": {},
   "outputs": [],
   "source": [
    "# Get an API key through https://www.huduser.gov/portal/dataset/uspszip-api.html\n",
    "with open(\"hud-api-key.txt\", \"r\") as infile:\n",
    "    hudapikey = infile.read().strip()"
   ]
  },
  {
   "cell_type": "code",
   "execution_count": null,
   "id": "0923307d",
   "metadata": {},
   "outputs": [],
   "source": [
    "requestheaders = {\"Authorization\": f\"Bearer {hudapikey}\"}"
   ]
  },
  {
   "cell_type": "code",
   "execution_count": null,
   "id": "00641434",
   "metadata": {},
   "outputs": [],
   "source": [
    "targeturl = f\"https://www.huduser.gov/hudapi/public/usps?type=2&query=All\""
   ]
  },
  {
   "cell_type": "code",
   "execution_count": null,
   "id": "f47604db",
   "metadata": {},
   "outputs": [],
   "source": [
    "r = requests.get(targeturl, headers=requestheaders)"
   ]
  },
  {
   "cell_type": "code",
   "execution_count": null,
   "id": "056a0b66",
   "metadata": {},
   "outputs": [],
   "source": [
    "with open(\"hud-data.json\", \"w\", encoding=\"utf-8\") as outfile:\n",
    "    outfile.write(json.dumps(r.json(), indent=4*\" \"))"
   ]
  },
  {
   "cell_type": "code",
   "execution_count": null,
   "id": "1fb2abbb",
   "metadata": {},
   "outputs": [],
   "source": []
  },
  {
   "cell_type": "code",
   "execution_count": null,
   "id": "af707b02",
   "metadata": {},
   "outputs": [],
   "source": []
  }
 ],
 "metadata": {
  "kernelspec": {
   "display_name": "Python 3 (ipykernel)",
   "language": "python",
   "name": "python3"
  },
  "language_info": {
   "codemirror_mode": {
    "name": "ipython",
    "version": 3
   },
   "file_extension": ".py",
   "mimetype": "text/x-python",
   "name": "python",
   "nbconvert_exporter": "python",
   "pygments_lexer": "ipython3",
   "version": "3.10.6"
  }
 },
 "nbformat": 4,
 "nbformat_minor": 5
}
