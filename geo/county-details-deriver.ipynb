{
 "cells": [
  {
   "cell_type": "code",
   "execution_count": 1,
   "id": "dd6c2006",
   "metadata": {},
   "outputs": [],
   "source": [
    "import csv"
   ]
  },
  {
   "cell_type": "code",
   "execution_count": 2,
   "id": "12f9a866",
   "metadata": {},
   "outputs": [],
   "source": [
    "with open(\"zip-lookup.csv\", \"r\", encoding=\"utf-8\") as infile:\n",
    "    reader = list(csv.DictReader(infile))"
   ]
  },
  {
   "cell_type": "code",
   "execution_count": 12,
   "id": "bf0d92e0",
   "metadata": {},
   "outputs": [],
   "source": [
    "masterdict = {}\n",
    "for row in reader:\n",
    "    fips = row['zip_fips']\n",
    "    countyfull = row['zip_county_name']\n",
    "    countyonly = countyfull[:-2].strip()\n",
    "    state = countyfull[-2:]\n",
    "    if countyfull not in masterdict:\n",
    "        masterdict[countyfull] = {\n",
    "            \"fips\": fips,\n",
    "            \"countyfull\": countyfull,\n",
    "            \"countyonly\": countyonly,\n",
    "            \"state\": state,            \n",
    "        }"
   ]
  },
  {
   "cell_type": "code",
   "execution_count": 13,
   "id": "962d7316",
   "metadata": {},
   "outputs": [],
   "source": [
    "with open(\"county-details-derived.csv\", \"w\", encoding=\"utf-8\", newline=\"\") as outfile:\n",
    "    writer = csv.writer(outfile)\n",
    "    writer.writerow(list(masterdict['Palm Beach FL'].keys()))\n",
    "    for county in sorted(masterdict):\n",
    "        line = masterdict[county]\n",
    "        writer.writerow(list(line.values()))"
   ]
  },
  {
   "cell_type": "code",
   "execution_count": null,
   "id": "d87d62b4",
   "metadata": {},
   "outputs": [],
   "source": []
  },
  {
   "cell_type": "code",
   "execution_count": null,
   "id": "31216723",
   "metadata": {},
   "outputs": [],
   "source": []
  }
 ],
 "metadata": {
  "kernelspec": {
   "display_name": "Python 3 (ipykernel)",
   "language": "python",
   "name": "python3"
  },
  "language_info": {
   "codemirror_mode": {
    "name": "ipython",
    "version": 3
   },
   "file_extension": ".py",
   "mimetype": "text/x-python",
   "name": "python",
   "nbconvert_exporter": "python",
   "pygments_lexer": "ipython3",
   "version": "3.10.6"
  }
 },
 "nbformat": 4,
 "nbformat_minor": 5
}
